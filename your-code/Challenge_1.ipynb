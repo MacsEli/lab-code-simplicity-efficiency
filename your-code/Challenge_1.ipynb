{
 "cells": [
  {
   "cell_type": "code",
   "execution_count": 2,
   "metadata": {},
   "outputs": [
    {
     "name": "stdout",
     "output_type": "stream",
     "text": [
      "Welcome to this calculator!\n",
      "It can add and subtract whole numbers from zero to five\n"
     ]
    }
   ],
   "source": [
    "numberDictionary={\"zero\":0,\"one\":1,\"two\":2,\"three\":3,\"four\":4,\"five\":5,\"six\":6,\"seven\":7,\"eight\":8,\"nine\":9,\"ten\":10,\n",
    "                  \"negative one\":-1,\n",
    "                  \"negative two\":-2,\"negative three\":-3,\"negative four\":-4,\"negative five\":-5}\n",
    "print('Welcome to this calculator!')\n",
    "print('It can add and subtract whole numbers from zero to five')\n",
    "\n",
    "\n",
    "\n",
    "#numberNegativeDic={\"negative one\":-1,\"negative two\":-2,\"negative three\":-3,\"negative four\":-4,\"negative five\":-5}\n"
   ]
  },
  {
   "cell_type": "code",
   "execution_count": null,
   "metadata": {},
   "outputs": [],
   "source": [
    "a = input('Please choose your first number (zero to five): ')\n",
    "b = input('What do you want to do? plus or minus: ')\n",
    "c = input('Please choose your second number (zero to five): ')"
   ]
  },
  {
   "cell_type": "code",
   "execution_count": null,
   "metadata": {},
   "outputs": [],
   "source": [
    "\n",
    "def convertValues(a):\n",
    "    number=numberDictionary[a]\n",
    "    return number\n",
    "    \n",
    "def function resultado(first,operator,secondN):\n",
    "    if(operator.equals(\"plus\")):\n",
    "        return numberfinal=first+secondN\n",
    "    else:\n",
    "        return numberfinal=first-secondN\n",
    "    "
   ]
  }
 ],
 "metadata": {
  "kernelspec": {
   "display_name": "Python 3",
   "language": "python",
   "name": "python3"
  },
  "language_info": {
   "codemirror_mode": {
    "name": "ipython",
    "version": 3
   },
   "file_extension": ".py",
   "mimetype": "text/x-python",
   "name": "python",
   "nbconvert_exporter": "python",
   "pygments_lexer": "ipython3",
   "version": "3.8.3"
  }
 },
 "nbformat": 4,
 "nbformat_minor": 4
}
